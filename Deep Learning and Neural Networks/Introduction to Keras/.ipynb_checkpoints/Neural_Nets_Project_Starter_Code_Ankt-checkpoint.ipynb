{
 "cells": [
  {
   "cell_type": "markdown",
   "metadata": {},
   "source": [
    "# Gesture Recognition\n",
    "In this group project, you are going to build a 3D Conv model that will be able to predict the 5 gestures correctly. Please import the following libraries to get started."
   ]
  },
  {
   "cell_type": "code",
   "execution_count": 1,
   "metadata": {},
   "outputs": [],
   "source": [
    "import numpy as np\n",
    "import os\n",
    "from scipy.misc import imread, imresize\n",
    "import datetime\n",
    "import os"
   ]
  },
  {
   "cell_type": "markdown",
   "metadata": {},
   "source": [
    "We set the random seed so that the results don't vary drastically."
   ]
  },
  {
   "cell_type": "code",
   "execution_count": 2,
   "metadata": {},
   "outputs": [
    {
     "name": "stderr",
     "output_type": "stream",
     "text": [
      "Using TensorFlow backend.\n"
     ]
    }
   ],
   "source": [
    "np.random.seed(30)\n",
    "import random as rn\n",
    "rn.seed(30)\n",
    "from keras import backend as K\n",
    "import tensorflow as tf\n",
    "tf.set_random_seed(30)"
   ]
  },
  {
   "cell_type": "markdown",
   "metadata": {},
   "source": [
    "In this block, you read the folder names for training and validation. You also set the `batch_size` here. Note that you set the batch size in such a way that you are able to use the GPU in full capacity. You keep increasing the batch size until the machine throws an error."
   ]
  },
  {
   "cell_type": "code",
   "execution_count": 3,
   "metadata": {},
   "outputs": [],
   "source": [
    "train_doc = np.random.permutation(open('./notebooks/storage/Final_data/Collated_training/train.csv').readlines())\n",
    "val_doc = np.random.permutation(open('./notebooks/storage/Final_data/Collated_training/val.csv').readlines())\n",
    "batch_size = 60 #experiment with the batch size"
   ]
  },
  {
   "cell_type": "code",
   "execution_count": 4,
   "metadata": {},
   "outputs": [],
   "source": [
    "x = 19 # number of frames\n",
    "y = 120 #120 # image width\n",
    "z = 120 #120 # image height"
   ]
  },
  {
   "cell_type": "markdown",
   "metadata": {},
   "source": [
    "## Generator\n",
    "This is one of the most important part of the code. The overall structure of the generator has been given. In the generator, you are going to preprocess the images as you have images of 2 different dimensions as well as create a batch of video frames. You have to experiment with `img_idx`, `y`,`z` and normalization such that you get high accuracy."
   ]
  },
  {
   "cell_type": "code",
   "execution_count": 5,
   "metadata": {},
   "outputs": [],
   "source": [
    "def generator(source_path, folder_list, batch_size):\n",
    "    print( 'Source path = ', source_path, '; batch size =', batch_size)\n",
    "    img_idx =  [0,1,2,3,4,6,8,11,12,14,16,18,20,21,23,25,26,27,29] #[x for x in range(0,x)] #create a list of image numbers you want to use for a particular video\n",
    "    while True:\n",
    "        t = np.random.permutation(folder_list)\n",
    "        num_batches = len(folder_list)//batch_size # calculate the number of batches\n",
    "        for batch in range(num_batches): # we iterate over the number of batches\n",
    "            batch_data = np.zeros((batch_size,x,y,z,3)) # x is the number of images you use for each video, (y,z) is the final size of the input images and 3 is the number of channels RGB\n",
    "            batch_labels = np.zeros((batch_size,5)) # batch_labels is the one hot representation of the output\n",
    "            for folder in range(batch_size): # iterate over the batch_size                \n",
    "                imgs = os.listdir(source_path+'/'+ t[folder + (batch*batch_size)].split(';')[0]) # read all the images in the folder\n",
    "                for idx,item in enumerate(img_idx): #  Iterate iver the frames/images of a folder to read them in\n",
    "                    image = imread(source_path+'/'+ t[folder + (batch*batch_size)].strip().split(';')[0]+'/'+imgs[item]).astype(np.float32)\n",
    "                    \n",
    "                    #crop the images and resize them. Note that the images are of 2 different shape \n",
    "                    #and the conv3D will throw error if the inputs in a batch have different shapes\n",
    "                    resize = imresize(image,(120,120))\n",
    "                    normalize = resize/127.5-1\n",
    "                    \n",
    "                    batch_data[folder,idx,:,:,0] = (normalize[:,:,0]) #normalise and feed in the image\n",
    "                    batch_data[folder,idx,:,:,1] = (normalize[:,:,1]) #normalise and feed in the image\n",
    "                    batch_data[folder,idx,:,:,2] = (normalize[:,:,2]) #normalise and feed in the image\n",
    "                    \n",
    "                batch_labels[folder, int(t[folder + (batch*batch_size)].strip().split(';')[2])] = 1\n",
    "            yield batch_data, batch_labels #you yield the batch_data and the batch_labels, remember what does yield do\n",
    "\n",
    "        \n",
    "         # write the code for the remaining data points which are left after full batches\n",
    "        if (len(folder_list) != batch_size*num_batches):\n",
    "            print(\"Batch: \",num_batches+1,\"Index:\", batch_size)\n",
    "            batch_size = len(folder_list) - (batch_size*num_batches)\n",
    "            batch_data = np.zeros((batch_size,x,y,z,3)) # x is the number of images you use for each video, (y,z) is the final size of the input images and 3 is the number of channels RGB\n",
    "            batch_labels = np.zeros((batch_size,5)) # batch_labels is the one hot representation of the output\n",
    "            for folder in range(batch_size): # iterate over the batch_size\n",
    "                imgs = os.listdir(source_path+'/'+ t[folder + (batch*batch_size)].split(';')[0]) # read all the images in the folder\n",
    "                for idx,item in enumerate(img_idx): #  Iterate iver the frames/images of a folder to read them in\n",
    "                    image = imread(source_path+'/'+ t[folder + (batch*batch_size)].strip().split(';')[0]+'/'+imgs[item]).astype(np.float32)\n",
    "                    \n",
    "                    #crop the images and resize them. Note that the images are of 2 different shape \n",
    "                    #and the conv3D will throw error if the inputs in a batch have different shapes\n",
    "                    resize = imresize(image,(120,120))\n",
    "                    normalize = resize/127.5-1\n",
    "                    \n",
    "                    batch_data[folder,idx,:,:,0] = (normalize[:,:,0]) #normalise and feed in the image\n",
    "                    batch_data[folder,idx,:,:,1] = (normalize[:,:,1]) #normalise and feed in the image\n",
    "                    batch_data[folder,idx,:,:,2] = (normalize[:,:,2]) #normalise and feed in the image\n",
    "                    \n",
    "                batch_labels[folder, int(t[folder + (batch*batch_size)].strip().split(';')[2])] = 1\n",
    "            yield batch_data, batch_labels\n"
   ]
  },
  {
   "cell_type": "markdown",
   "metadata": {},
   "source": [
    "Note here that a video is represented above in the generator as (number of images, height, width, number of channels). Take this into consideration while creating the model architecture."
   ]
  },
  {
   "cell_type": "code",
   "execution_count": 6,
   "metadata": {},
   "outputs": [
    {
     "name": "stdout",
     "output_type": "stream",
     "text": [
      "# training sequences = 663\n",
      "# validation sequences = 100\n",
      "# epochs = 30\n"
     ]
    }
   ],
   "source": [
    "curr_dt_time = datetime.datetime.now()\n",
    "train_path = './notebooks/storage/Final_data/Collated_training/train'\n",
    "val_path = './notebooks/storage/Final_data/Collated_training/val'\n",
    "num_train_sequences = len(train_doc)\n",
    "print('# training sequences =', num_train_sequences)\n",
    "num_val_sequences = len(val_doc)\n",
    "print('# validation sequences =', num_val_sequences)\n",
    "num_epochs =30  # choose the number of epochs\n",
    "print ('# epochs =', num_epochs)"
   ]
  },
  {
   "cell_type": "markdown",
   "metadata": {},
   "source": [
    "## Model\n",
    "Here you make the model using different functionalities that Keras provides. Remember to use `Conv3D` and `MaxPooling3D` and not `Conv2D` and `Maxpooling2D` for a 3D convolution model. You would want to use `TimeDistributed` while building a Conv2D + RNN model. Also remember that the last layer is the softmax. Design the network in such a way that the model is able to give good accuracy on the least number of parameters so that it can fit in the memory of the webcam."
   ]
  },
  {
   "cell_type": "code",
   "execution_count": 7,
   "metadata": {},
   "outputs": [],
   "source": [
    "from keras.models import Sequential, Model\n",
    "from keras.layers import Dense, GRU, Flatten, TimeDistributed, Flatten, BatchNormalization, Activation\n",
    "from keras.layers.convolutional import Conv3D, MaxPooling3D\n",
    "from keras.callbacks import ModelCheckpoint, ReduceLROnPlateau\n",
    "from keras import optimizers\n",
    "\n",
    "#write your model here"
   ]
  },
  {
   "cell_type": "markdown",
   "metadata": {},
   "source": [
    "Now that you have written the model, the next step is to `compile` the model. When you print the `summary` of the model, you'll see the total number of parameters you have to train."
   ]
  },
  {
   "cell_type": "code",
   "execution_count": 8,
   "metadata": {},
   "outputs": [],
   "source": [
    "nb_filters = [8,16,32,64]\n",
    "nb_dense = [1000, 500, 5]\n",
    "#input_shape = (30, 120, 120, 3)\n",
    "input_shape = (19, 120, 120, 3)"
   ]
  },
  {
   "cell_type": "code",
   "execution_count": 9,
   "metadata": {},
   "outputs": [],
   "source": [
    "from keras.models import Sequential, Model\n",
    "from keras.layers import Dense, GRU, Flatten, TimeDistributed, Flatten, BatchNormalization, Activation, Dropout\n",
    "from keras.layers.convolutional import Conv3D, MaxPooling3D\n",
    "from keras.callbacks import ModelCheckpoint, ReduceLROnPlateau\n",
    "from keras import optimizers\n",
    "\n",
    "#write your model here\n",
    "model = Sequential()\n",
    "\n",
    "model.add(Conv3D(16, \n",
    "                 kernel_size=(3,3,3), \n",
    "                 input_shape=input_shape,\n",
    "                 padding='same'))\n",
    "model.add(BatchNormalization())\n",
    "#model.add(Activation('relu'))\n",
    "model.add(Activation('elu'))\n",
    "\n",
    "model.add(MaxPooling3D(pool_size=(2,2,2),strides=(2,2,2)))\n",
    "\n",
    "model.add(Conv3D(32, \n",
    "                 kernel_size=(3,3,3), \n",
    "                 padding='same'))\n",
    "model.add(BatchNormalization())\n",
    "model.add(Activation('elu'))\n",
    "\n",
    "model.add(MaxPooling3D(pool_size=(2,2,2)))\n",
    "\n",
    "model.add(Conv3D(64, \n",
    "                 kernel_size=(1,3,3), \n",
    "                 padding='same'))\n",
    "model.add(BatchNormalization())\n",
    "model.add(Activation('elu'))\n",
    "\n",
    "model.add(MaxPooling3D(pool_size=(2,2,2)))\n",
    "\n",
    "model.add(Conv3D(128, \n",
    "                 kernel_size=(1,3,3), \n",
    "                 padding='same'))\n",
    "model.add(BatchNormalization())\n",
    "model.add(Activation('elu'))\n",
    "\n",
    "model.add(MaxPooling3D(pool_size=(2,2,2)))\n",
    "\n",
    "#Flatten Layers\n",
    "model.add(Flatten())\n",
    "\n",
    "#model.add(Dense(1000, activation='elu'))\n",
    "#model.add(Dropout(0.5))\n",
    "\n",
    "model.add(Dense(512, activation='elu'))\n",
    "model.add(Dropout(0.5))\n",
    "\n",
    "#softmax layer\n",
    "model.add(Dense(5, activation='softmax'))"
   ]
  },
  {
   "cell_type": "code",
   "execution_count": 10,
   "metadata": {
    "scrolled": true
   },
   "outputs": [
    {
     "name": "stdout",
     "output_type": "stream",
     "text": [
      "_________________________________________________________________\n",
      "Layer (type)                 Output Shape              Param #   \n",
      "=================================================================\n",
      "conv3d_1 (Conv3D)            (None, 19, 120, 120, 16)  1312      \n",
      "_________________________________________________________________\n",
      "batch_normalization_1 (Batch (None, 19, 120, 120, 16)  64        \n",
      "_________________________________________________________________\n",
      "activation_1 (Activation)    (None, 19, 120, 120, 16)  0         \n",
      "_________________________________________________________________\n",
      "max_pooling3d_1 (MaxPooling3 (None, 9, 60, 60, 16)     0         \n",
      "_________________________________________________________________\n",
      "conv3d_2 (Conv3D)            (None, 9, 60, 60, 32)     13856     \n",
      "_________________________________________________________________\n",
      "batch_normalization_2 (Batch (None, 9, 60, 60, 32)     128       \n",
      "_________________________________________________________________\n",
      "activation_2 (Activation)    (None, 9, 60, 60, 32)     0         \n",
      "_________________________________________________________________\n",
      "max_pooling3d_2 (MaxPooling3 (None, 4, 30, 30, 32)     0         \n",
      "_________________________________________________________________\n",
      "conv3d_3 (Conv3D)            (None, 4, 30, 30, 64)     18496     \n",
      "_________________________________________________________________\n",
      "batch_normalization_3 (Batch (None, 4, 30, 30, 64)     256       \n",
      "_________________________________________________________________\n",
      "activation_3 (Activation)    (None, 4, 30, 30, 64)     0         \n",
      "_________________________________________________________________\n",
      "max_pooling3d_3 (MaxPooling3 (None, 2, 15, 15, 64)     0         \n",
      "_________________________________________________________________\n",
      "conv3d_4 (Conv3D)            (None, 2, 15, 15, 128)    73856     \n",
      "_________________________________________________________________\n",
      "batch_normalization_4 (Batch (None, 2, 15, 15, 128)    512       \n",
      "_________________________________________________________________\n",
      "activation_4 (Activation)    (None, 2, 15, 15, 128)    0         \n",
      "_________________________________________________________________\n",
      "max_pooling3d_4 (MaxPooling3 (None, 1, 7, 7, 128)      0         \n",
      "_________________________________________________________________\n",
      "flatten_1 (Flatten)          (None, 6272)              0         \n",
      "_________________________________________________________________\n",
      "dense_1 (Dense)              (None, 512)               3211776   \n",
      "_________________________________________________________________\n",
      "dropout_1 (Dropout)          (None, 512)               0         \n",
      "_________________________________________________________________\n",
      "dense_2 (Dense)              (None, 5)                 2565      \n",
      "=================================================================\n",
      "Total params: 3,322,821\n",
      "Trainable params: 3,322,341\n",
      "Non-trainable params: 480\n",
      "_________________________________________________________________\n",
      "None\n"
     ]
    }
   ],
   "source": [
    "rate = 0.001\n",
    "#optimiser = optimizers.Adam(lr=rate)#write your optimizer\n",
    "optimiser = optimizers.SGD(lr=0.001, decay=1e-6, momentum=0.7, nesterov=True)\n",
    "model.compile(optimizer=optimiser, loss='categorical_crossentropy', metrics=['categorical_accuracy'])\n",
    "print (model.summary())"
   ]
  },
  {
   "cell_type": "markdown",
   "metadata": {},
   "source": [
    "Let us create the `train_generator` and the `val_generator` which will be used in `.fit_generator`."
   ]
  },
  {
   "cell_type": "code",
   "execution_count": 11,
   "metadata": {},
   "outputs": [],
   "source": [
    "train_generator = generator(train_path, train_doc, batch_size)\n",
    "val_generator = generator(val_path, val_doc, batch_size)"
   ]
  },
  {
   "cell_type": "code",
   "execution_count": 12,
   "metadata": {},
   "outputs": [],
   "source": [
    "model_name = 'model_init' + '_' + str(curr_dt_time).replace(' ','').replace(':','_') + '/'\n",
    "    \n",
    "if not os.path.exists(model_name):\n",
    "    os.mkdir(model_name)\n",
    "        \n",
    "filepath = model_name + 'model-{epoch:05d}-{loss:.5f}-{categorical_accuracy:.5f}-{val_loss:.5f}-{val_categorical_accuracy:.5f}.h5'\n",
    "\n",
    "checkpoint = ModelCheckpoint(filepath, monitor='val_loss', verbose=1, save_best_only=False, save_weights_only=False, mode='auto', period=1)\n",
    "\n",
    "LR = ReduceLROnPlateau(monitor='val_loss', factor=0.5, patience=2, cooldown=1, verbose=1)# write the REducelronplateau code here\n",
    "callbacks_list = [checkpoint, LR]"
   ]
  },
  {
   "cell_type": "markdown",
   "metadata": {},
   "source": [
    "The `steps_per_epoch` and `validation_steps` are used by `fit_generator` to decide the number of next() calls it need to make."
   ]
  },
  {
   "cell_type": "code",
   "execution_count": 13,
   "metadata": {},
   "outputs": [],
   "source": [
    "if (num_train_sequences%batch_size) == 0:\n",
    "    steps_per_epoch = int(num_train_sequences/batch_size)\n",
    "else:\n",
    "    steps_per_epoch = (num_train_sequences//batch_size) + 1\n",
    "\n",
    "if (num_val_sequences%batch_size) == 0:\n",
    "    validation_steps = int(num_val_sequences/batch_size)\n",
    "else:\n",
    "    validation_steps = (num_val_sequences//batch_size) + 1"
   ]
  },
  {
   "cell_type": "markdown",
   "metadata": {},
   "source": [
    "Let us now fit the model. This will start training the model and with the help of the checkpoints, you'll be able to save the model at the end of each epoch."
   ]
  },
  {
   "cell_type": "code",
   "execution_count": 14,
   "metadata": {},
   "outputs": [
    {
     "name": "stdout",
     "output_type": "stream",
     "text": [
      "Source path =  ./notebooks/storage/Final_data/Collated_training/val ; batch size = 60\n",
      "Source path =  ./notebooks/storage/Final_data/Collated_training/train ; batch size = 60\n",
      "Epoch 1/30\n"
     ]
    },
    {
     "name": "stderr",
     "output_type": "stream",
     "text": [
      "/mnt/disks/user/anaconda3/lib/python3.6/site-packages/ipykernel_launcher.py:13: DeprecationWarning: `imread` is deprecated!\n",
      "`imread` is deprecated in SciPy 1.0.0, and will be removed in 1.2.0.\n",
      "Use ``imageio.imread`` instead.\n",
      "  del sys.path[0]\n",
      "/mnt/disks/user/anaconda3/lib/python3.6/site-packages/ipykernel_launcher.py:17: DeprecationWarning: `imresize` is deprecated!\n",
      "`imresize` is deprecated in SciPy 1.0.0, and will be removed in 1.2.0.\n",
      "Use ``skimage.transform.resize`` instead.\n"
     ]
    },
    {
     "name": "stdout",
     "output_type": "stream",
     "text": [
      "Batch:  2 Index: 60\n"
     ]
    },
    {
     "name": "stderr",
     "output_type": "stream",
     "text": [
      "/mnt/disks/user/anaconda3/lib/python3.6/site-packages/ipykernel_launcher.py:39: DeprecationWarning: `imread` is deprecated!\n",
      "`imread` is deprecated in SciPy 1.0.0, and will be removed in 1.2.0.\n",
      "Use ``imageio.imread`` instead.\n",
      "/mnt/disks/user/anaconda3/lib/python3.6/site-packages/ipykernel_launcher.py:43: DeprecationWarning: `imresize` is deprecated!\n",
      "`imresize` is deprecated in SciPy 1.0.0, and will be removed in 1.2.0.\n",
      "Use ``skimage.transform.resize`` instead.\n"
     ]
    },
    {
     "name": "stdout",
     "output_type": "stream",
     "text": [
      " 3/12 [======>.......................] - ETA: 57s - loss: 2.9773 - categorical_accuracy: 0.2389 Batch:  3 Index: 40\n",
      "10/12 [========================>.....] - ETA: 10s - loss: 2.4633 - categorical_accuracy: 0.2900Batch:  12 Index: 60\n",
      "12/12 [==============================] - 60s 5s/step - loss: 2.3966 - categorical_accuracy: 0.3068 - val_loss: 2.1442 - val_categorical_accuracy: 0.4200\n",
      "\n",
      "Epoch 00001: saving model to model_init_2019-12-2116_23_15.239564/model-00001-2.37701-0.30468-2.14421-0.42000.h5\n",
      "Epoch 2/30\n",
      "12/12 [==============================] - 2s 187ms/step - loss: 2.7297 - categorical_accuracy: 0.3889 - val_loss: 3.6152 - val_categorical_accuracy: 0.3625\n",
      "\n",
      "Epoch 00002: saving model to model_init_2019-12-2116_23_15.239564/model-00002-2.72971-0.38889-3.61525-0.36250.h5\n",
      "Epoch 3/30\n",
      "12/12 [==============================] - 4s 302ms/step - loss: 3.5670 - categorical_accuracy: 0.3611 - val_loss: 2.7672 - val_categorical_accuracy: 0.2250\n",
      "\n",
      "Epoch 00003: saving model to model_init_2019-12-2116_23_15.239564/model-00003-3.56698-0.36111-2.76724-0.22500.h5\n",
      "\n",
      "Epoch 00003: ReduceLROnPlateau reducing learning rate to 0.0005000000237487257.\n",
      "Epoch 4/30\n",
      "12/12 [==============================] - 3s 242ms/step - loss: 3.1190 - categorical_accuracy: 0.2778 - val_loss: 2.4531 - val_categorical_accuracy: 0.3250\n",
      "\n",
      "Epoch 00004: saving model to model_init_2019-12-2116_23_15.239564/model-00004-3.11898-0.27778-2.45314-0.32500.h5\n",
      "Epoch 5/30\n",
      "12/12 [==============================] - 4s 319ms/step - loss: 2.7619 - categorical_accuracy: 0.3611 - val_loss: 1.6016 - val_categorical_accuracy: 0.5000\n",
      "\n",
      "Epoch 00005: saving model to model_init_2019-12-2116_23_15.239564/model-00005-2.76195-0.36111-1.60160-0.50000.h5\n",
      "Epoch 6/30\n",
      "12/12 [==============================] - 3s 260ms/step - loss: 1.9480 - categorical_accuracy: 0.4444 - val_loss: 1.6493 - val_categorical_accuracy: 0.4500\n",
      "\n",
      "Epoch 00006: saving model to model_init_2019-12-2116_23_15.239564/model-00006-1.94805-0.44444-1.64934-0.45000.h5\n",
      "Epoch 7/30\n",
      "12/12 [==============================] - 3s 276ms/step - loss: 2.3162 - categorical_accuracy: 0.4722 - val_loss: 1.6469 - val_categorical_accuracy: 0.4750\n",
      "\n",
      "Epoch 00007: saving model to model_init_2019-12-2116_23_15.239564/model-00007-2.31618-0.47222-1.64692-0.47500.h5\n",
      "\n",
      "Epoch 00007: ReduceLROnPlateau reducing learning rate to 0.0002500000118743628.\n",
      "Epoch 8/30\n",
      "12/12 [==============================] - 3s 267ms/step - loss: 1.9234 - categorical_accuracy: 0.4722 - val_loss: 1.4542 - val_categorical_accuracy: 0.5750\n",
      "\n",
      "Epoch 00008: saving model to model_init_2019-12-2116_23_15.239564/model-00008-1.92337-0.47222-1.45417-0.57500.h5\n",
      "Epoch 9/30\n",
      "12/12 [==============================] - 3s 275ms/step - loss: 1.3852 - categorical_accuracy: 0.5000 - val_loss: 1.8143 - val_categorical_accuracy: 0.5000\n",
      "\n",
      "Epoch 00009: saving model to model_init_2019-12-2116_23_15.239564/model-00009-1.38519-0.50000-1.81429-0.50000.h5\n",
      "Epoch 10/30\n",
      "12/12 [==============================] - 4s 310ms/step - loss: 1.5893 - categorical_accuracy: 0.4722 - val_loss: 1.1062 - val_categorical_accuracy: 0.6000\n",
      "\n",
      "Epoch 00010: saving model to model_init_2019-12-2116_23_15.239564/model-00010-1.58933-0.47222-1.10616-0.60000.h5\n",
      "Epoch 11/30\n",
      "12/12 [==============================] - 4s 305ms/step - loss: 1.4050 - categorical_accuracy: 0.4722 - val_loss: 1.0713 - val_categorical_accuracy: 0.6500\n",
      "\n",
      "Epoch 00011: saving model to model_init_2019-12-2116_23_15.239564/model-00011-1.40504-0.47222-1.07128-0.65000.h5\n",
      "Epoch 12/30\n",
      "12/12 [==============================] - 4s 297ms/step - loss: 1.8614 - categorical_accuracy: 0.4722 - val_loss: 1.5570 - val_categorical_accuracy: 0.5250\n",
      "\n",
      "Epoch 00012: saving model to model_init_2019-12-2116_23_15.239564/model-00012-1.86136-0.47222-1.55701-0.52500.h5\n",
      "Epoch 13/30\n",
      "12/12 [==============================] - 3s 249ms/step - loss: 2.2250 - categorical_accuracy: 0.3333 - val_loss: 1.7051 - val_categorical_accuracy: 0.4500\n",
      "\n",
      "Epoch 00013: saving model to model_init_2019-12-2116_23_15.239564/model-00013-2.22498-0.33333-1.70515-0.45000.h5\n",
      "\n",
      "Epoch 00013: ReduceLROnPlateau reducing learning rate to 0.0001250000059371814.\n",
      "Epoch 14/30\n",
      "12/12 [==============================] - 3s 241ms/step - loss: 1.3560 - categorical_accuracy: 0.5000 - val_loss: 1.2899 - val_categorical_accuracy: 0.5750\n",
      "\n",
      "Epoch 00014: saving model to model_init_2019-12-2116_23_15.239564/model-00014-1.35596-0.50000-1.28992-0.57500.h5\n",
      "Epoch 15/30\n",
      "12/12 [==============================] - 4s 321ms/step - loss: 1.7428 - categorical_accuracy: 0.4444 - val_loss: 1.3795 - val_categorical_accuracy: 0.5000\n",
      "\n",
      "Epoch 00015: saving model to model_init_2019-12-2116_23_15.239564/model-00015-1.74280-0.44444-1.37949-0.50000.h5\n",
      "\n",
      "Epoch 00015: ReduceLROnPlateau reducing learning rate to 6.25000029685907e-05.\n",
      "Epoch 16/30\n",
      "12/12 [==============================] - 4s 315ms/step - loss: 1.8946 - categorical_accuracy: 0.3889 - val_loss: 1.0879 - val_categorical_accuracy: 0.5500\n",
      "\n",
      "Epoch 00016: saving model to model_init_2019-12-2116_23_15.239564/model-00016-1.89463-0.38889-1.08788-0.55000.h5\n",
      "Epoch 17/30\n",
      "12/12 [==============================] - 3s 265ms/step - loss: 1.4658 - categorical_accuracy: 0.4167 - val_loss: 0.8452 - val_categorical_accuracy: 0.7000\n",
      "\n",
      "Epoch 00017: saving model to model_init_2019-12-2116_23_15.239564/model-00017-1.46576-0.41667-0.84522-0.70000.h5\n",
      "Epoch 18/30\n",
      "12/12 [==============================] - 3s 281ms/step - loss: 1.4366 - categorical_accuracy: 0.5278 - val_loss: 1.3712 - val_categorical_accuracy: 0.5000\n",
      "\n",
      "Epoch 00018: saving model to model_init_2019-12-2116_23_15.239564/model-00018-1.43658-0.52778-1.37124-0.50000.h5\n",
      "Epoch 19/30\n",
      "12/12 [==============================] - 3s 269ms/step - loss: 1.4167 - categorical_accuracy: 0.5278 - val_loss: 1.1316 - val_categorical_accuracy: 0.6000\n",
      "\n",
      "Epoch 00019: saving model to model_init_2019-12-2116_23_15.239564/model-00019-1.41666-0.52778-1.13157-0.60000.h5\n",
      "\n",
      "Epoch 00019: ReduceLROnPlateau reducing learning rate to 3.125000148429535e-05.\n",
      "Epoch 20/30\n",
      "12/12 [==============================] - 4s 323ms/step - loss: 1.5778 - categorical_accuracy: 0.5278 - val_loss: 0.8441 - val_categorical_accuracy: 0.6000\n",
      "\n",
      "Epoch 00020: saving model to model_init_2019-12-2116_23_15.239564/model-00020-1.57780-0.52778-0.84414-0.60000.h5\n",
      "Epoch 21/30\n",
      "12/12 [==============================] - 4s 369ms/step - loss: 1.1820 - categorical_accuracy: 0.5833 - val_loss: 0.9829 - val_categorical_accuracy: 0.6500\n",
      "\n",
      "Epoch 00021: saving model to model_init_2019-12-2116_23_15.239564/model-00021-1.18199-0.58333-0.98288-0.65000.h5\n",
      "Epoch 22/30\n",
      "12/12 [==============================] - 4s 350ms/step - loss: 1.5284 - categorical_accuracy: 0.5000 - val_loss: 1.0752 - val_categorical_accuracy: 0.5500\n",
      "\n",
      "Epoch 00022: saving model to model_init_2019-12-2116_23_15.239564/model-00022-1.52835-0.50000-1.07521-0.55000.h5\n",
      "\n",
      "Epoch 00022: ReduceLROnPlateau reducing learning rate to 1.5625000742147677e-05.\n",
      "Epoch 23/30\n",
      "12/12 [==============================] - 4s 292ms/step - loss: 1.3017 - categorical_accuracy: 0.4722 - val_loss: 1.0236 - val_categorical_accuracy: 0.5750\n",
      "\n",
      "Epoch 00023: saving model to model_init_2019-12-2116_23_15.239564/model-00023-1.30174-0.47222-1.02363-0.57500.h5\n",
      "Epoch 24/30\n",
      "12/12 [==============================] - 4s 352ms/step - loss: 1.0797 - categorical_accuracy: 0.5833 - val_loss: 1.0964 - val_categorical_accuracy: 0.6000\n",
      "\n",
      "Epoch 00024: saving model to model_init_2019-12-2116_23_15.239564/model-00024-1.07973-0.58333-1.09639-0.60000.h5\n",
      "\n",
      "Epoch 00024: ReduceLROnPlateau reducing learning rate to 7.812500371073838e-06.\n",
      "Epoch 25/30\n",
      "12/12 [==============================] - 4s 334ms/step - loss: 1.3692 - categorical_accuracy: 0.4444 - val_loss: 0.8746 - val_categorical_accuracy: 0.7000\n",
      "\n",
      "Epoch 00025: saving model to model_init_2019-12-2116_23_15.239564/model-00025-1.36917-0.44444-0.87459-0.70000.h5\n",
      "Epoch 26/30\n",
      "12/12 [==============================] - 4s 324ms/step - loss: 1.3903 - categorical_accuracy: 0.4444 - val_loss: 1.0196 - val_categorical_accuracy: 0.5500\n",
      "\n",
      "Epoch 00026: saving model to model_init_2019-12-2116_23_15.239564/model-00026-1.39029-0.44444-1.01965-0.55000.h5\n",
      "\n",
      "Epoch 00026: ReduceLROnPlateau reducing learning rate to 3.906250185536919e-06.\n",
      "Epoch 27/30\n",
      "12/12 [==============================] - 4s 364ms/step - loss: 1.0845 - categorical_accuracy: 0.5000 - val_loss: 0.9517 - val_categorical_accuracy: 0.6750\n",
      "\n",
      "Epoch 00027: saving model to model_init_2019-12-2116_23_15.239564/model-00027-1.08451-0.50000-0.95175-0.67500.h5\n",
      "Epoch 28/30\n",
      "12/12 [==============================] - 4s 297ms/step - loss: 1.3614 - categorical_accuracy: 0.5000 - val_loss: 0.8677 - val_categorical_accuracy: 0.7000\n",
      "\n",
      "Epoch 00028: saving model to model_init_2019-12-2116_23_15.239564/model-00028-1.36137-0.50000-0.86774-0.70000.h5\n",
      "\n",
      "Epoch 00028: ReduceLROnPlateau reducing learning rate to 1.9531250927684596e-06.\n",
      "Epoch 29/30\n",
      "12/12 [==============================] - 4s 339ms/step - loss: 0.8470 - categorical_accuracy: 0.7222 - val_loss: 1.2342 - val_categorical_accuracy: 0.5750\n",
      "\n",
      "Epoch 00029: saving model to model_init_2019-12-2116_23_15.239564/model-00029-0.84700-0.72222-1.23422-0.57500.h5\n",
      "Epoch 30/30\n",
      "12/12 [==============================] - 4s 345ms/step - loss: 1.3973 - categorical_accuracy: 0.5833 - val_loss: 0.9269 - val_categorical_accuracy: 0.5750\n",
      "\n",
      "Epoch 00030: saving model to model_init_2019-12-2116_23_15.239564/model-00030-1.39727-0.58333-0.92689-0.57500.h5\n",
      "\n",
      "Epoch 00030: ReduceLROnPlateau reducing learning rate to 9.765625463842298e-07.\n"
     ]
    },
    {
     "data": {
      "text/plain": [
       "<keras.callbacks.History at 0x7ff6228fdf60>"
      ]
     },
     "execution_count": 14,
     "metadata": {},
     "output_type": "execute_result"
    }
   ],
   "source": [
    "model.fit_generator(train_generator, steps_per_epoch=steps_per_epoch, epochs=num_epochs, verbose=1, \n",
    "                    callbacks=callbacks_list, validation_data=val_generator, \n",
    "                    validation_steps=validation_steps, class_weight=None, workers=1, initial_epoch=0)"
   ]
  },
  {
   "cell_type": "code",
   "execution_count": null,
   "metadata": {},
   "outputs": [],
   "source": []
  },
  {
   "cell_type": "code",
   "execution_count": null,
   "metadata": {},
   "outputs": [],
   "source": []
  }
 ],
 "metadata": {
  "kernelspec": {
   "display_name": "Python 3",
   "language": "python",
   "name": "python3"
  },
  "language_info": {
   "codemirror_mode": {
    "name": "ipython",
    "version": 3
   },
   "file_extension": ".py",
   "mimetype": "text/x-python",
   "name": "python",
   "nbconvert_exporter": "python",
   "pygments_lexer": "ipython3",
   "version": "3.7.4"
  }
 },
 "nbformat": 4,
 "nbformat_minor": 2
}
